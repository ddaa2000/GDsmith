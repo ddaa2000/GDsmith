{
 "cells": [
  {
   "cell_type": "code",
   "execution_count": 1,
   "id": "4b811f33-5ed7-4fa4-bde5-73084d441aa9",
   "metadata": {},
   "outputs": [],
   "source": [
    "import os,sys,re\n",
    "import json\n",
    "import pandas as pd\n",
    "# import seaborn as sns; sns.set()\n",
    "import matplotlib.pyplot as plt\n",
    "import drain3\n",
    "import numpy as np\n",
    "from tqdm import tqdm"
   ]
  },
  {
   "cell_type": "code",
   "execution_count": 2,
   "id": "7077022c-8b2c-4880-8256-125cf6f4e106",
   "metadata": {},
   "outputs": [],
   "source": [
    "import matplotlib.pyplot as plt\n",
    "import matplotlib.ticker as ticker\n",
    "# import seaborn as sns\n",
    "import matplotlib\n",
    "from matplotlib.lines import Line2D\n",
    "plt.style.use('seaborn-paper')\n",
    "tex_fonts = {\n",
    "    \"font.family\": \"Times New Roman\",\n",
    "    # Use 10pt font in plots, to match 10pt font in document\n",
    "    \"axes.labelsize\": 10,\n",
    "    \"font.size\": 10,\n",
    "    # Make the legend/label fonts a little smaller\n",
    "    \"legend.fontsize\": 8,\n",
    "    \"xtick.labelsize\": 8,\n",
    "    \"ytick.labelsize\": 8,\n",
    "    \"font.weight\":\"bold\"\n",
    "}\n",
    "plt.rcParams.update(tex_fonts)\n",
    "width = 241.14749\n",
    "def set_size(width, fraction=1):\n",
    "    \"\"\"Set figure dimensions to avoid scaling in LaTeX.\n",
    "\n",
    "    Parameters\n",
    "    ----------\n",
    "    width: float\n",
    "            Document textwidth or columnwidth in pts\n",
    "    fraction: float, optional\n",
    "            Fraction of the width which you wish the figure to occupy\n",
    "\n",
    "    Returns\n",
    "    -------\n",
    "    fig_dim: tuple\n",
    "            Dimensions of figure in inches\n",
    "    \"\"\"\n",
    "    # Width of figure (in pts)\n",
    "    fig_width_pt = width * fraction\n",
    "\n",
    "    # Convert from pt to inches\n",
    "    inches_per_pt = 1 / 72.27\n",
    "\n",
    "    # Golden ratio to set aesthetic figure height\n",
    "    # https://disq.us/p/2940ij3\n",
    "    golden_ratio = (5**.5 - 1) / 2\n",
    "\n",
    "    # Figure width in inches\n",
    "    fig_width_in = fig_width_pt * inches_per_pt\n",
    "    # Figure height in inches\n",
    "    fig_height_in = fig_width_in * golden_ratio\n",
    "\n",
    "    fig_dim = (fig_width_in, fig_height_in)\n",
    "\n",
    "    return fig_dim"
   ]
  },
  {
   "cell_type": "code",
   "execution_count": 3,
   "id": "99df716e-5465-4f30-ab1c-85a41368dc77",
   "metadata": {},
   "outputs": [],
   "source": [
    "def _json_min_max(path):\n",
    "    pda =pd.read_json(open(path))\n",
    "    pda[ \"logtime\" ] = pd.to_datetime(pda[ \"logtime\" ])\n",
    "    pda.sort_values(by='logtime')\n",
    "    return min(pda[ \"logtime\" ]), max(pda[ \"logtime\" ])\n",
    "\n",
    "\n",
    "jsonpath = os.path.join('/Users/nitrogenousfish/Desktop/ResearchArena/GraphDB/New Experiment/','json')\n",
    "minlist = []\n",
    "maxlist = []\n",
    "for file in os.listdir(jsonpath):\n",
    "    _ = _json_min_max(os.path.join(jsonpath,file))\n",
    "    minlist.append(_[0])\n",
    "    maxlist.append(_[1])\n",
    "minmin = min(minlist)\n",
    "maxmax = max(maxlist)\n",
    "\n",
    "alltime = pd.date_range(minmin,maxmax,freq='S')"
   ]
  },
  {
   "cell_type": "code",
   "execution_count": 4,
   "id": "911833ec-a026-4e19-8c11-8e6b3b3dba3f",
   "metadata": {},
   "outputs": [],
   "source": [
    "def _json_align(path,alltime):\n",
    "    lenoftime = len(alltime)\n",
    "    newpd = {\n",
    "            'mismatch':[0 for i in range(len(alltime))],\n",
    "            'crash':[0 for i in range(len(alltime))],\n",
    "            'crash_no_timeout':[0 for i in range(len(alltime))]\n",
    "        }\n",
    "    tmpname = ['mismatch','crash','crash_no_timeout']\n",
    "    pda =pd.read_json(open(path))\n",
    "    pda[ \"logtime\" ] = pd.to_datetime(pda[ \"logtime\" ])\n",
    "    pda = pda.sort_values(by='logtime')\n",
    "    pdapos = 0\n",
    "    for idx in tqdm(range(len(alltime))):\n",
    "        if pdapos < len(pda):\n",
    "            if alltime[idx] > pda.iloc[pdapos]['logtime']:\n",
    "                newpd['mismatch'][idx] = newpd['mismatch'][idx-1]\n",
    "                newpd['crash'][idx] = newpd['crash'][idx-1]\n",
    "                newpd['crash_no_timeout'][idx] = newpd['crash_no_timeout'][idx-1]\n",
    "            if alltime[idx] < pda.iloc[pdapos]['logtime']:\n",
    "                if idx>0:\n",
    "                    newpd['mismatch'][idx] = newpd['mismatch'][idx-1]\n",
    "                    newpd['crash'][idx] = newpd['crash'][idx-1]\n",
    "                    newpd['crash_no_timeout'][idx] = newpd['crash_no_timeout'][idx-1]\n",
    "            if alltime[idx] == pda.iloc[pdapos]['logtime']:\n",
    "                adddict = {\n",
    "                        'mismatch':0,\n",
    "                        'crash':0,\n",
    "                        'crash_no_timeout':0\n",
    "                }\n",
    "                while(pdapos<len(pda) and alltime[idx] == pda.iloc[pdapos]['logtime']):\n",
    "                    ertype = pda.iloc[pdapos]['errortype']\n",
    "                    if ertype == 'total number reached' or ertype == 'a specific database failed':\n",
    "                        ...\n",
    "                    else:\n",
    "                        adddict[ertype] += 1\n",
    "                        if ertype == 'crash' and pda.iloc[pdapos]['firstline_causedby'] != 'Timeout':\n",
    "                            adddict['crash_no_timeout'] += 1\n",
    "                    pdapos+=1\n",
    "\n",
    "                if idx>0:\n",
    "                    newpd['mismatch'][idx] = newpd['mismatch'][idx-1] + adddict['mismatch']\n",
    "                    newpd['crash'][idx] = newpd['crash'][idx-1] + adddict['crash']\n",
    "                    newpd['crash_no_timeout'][idx] = newpd['crash_no_timeout'][idx-1] + adddict['crash_no_timeout']\n",
    "                if idx==0:\n",
    "                    newpd['mismatch'][0] = adddict['mismatch']\n",
    "                    newpd['crash'][0] = adddict['crash']\n",
    "                    newpd['crash_no_timeout'][0] = adddict['crash_no_timeout']\n",
    "        if pdapos == len(pda):\n",
    "            if alltime[idx] == pda.iloc[-1]['logtime']:\n",
    "                adddict = {\n",
    "                        'mismatch':0,\n",
    "                        'crash':0,\n",
    "                        'crash_no_timeout':0\n",
    "                }\n",
    "                ertype = pda.iloc[-1]['errortype']\n",
    "                if ertype == 'total number reached' or ertype == 'a specific database failed':\n",
    "                    ...\n",
    "                else:\n",
    "                    adddict[ertype] += 1\n",
    "                    if ertype == 'crash' and pda.iloc[-1]['firstline_causedby'] != 'Timeout':\n",
    "                        adddict['crash_no_timeout'] += 1\n",
    "                newpd['mismatch'][idx] = newpd['mismatch'][idx-1] + adddict['mismatch']\n",
    "                newpd['crash'][idx] = newpd['crash'][idx-1] + adddict['crash']\n",
    "                newpd['crash_no_timeout'][idx] = newpd['crash_no_timeout'][idx-1] + adddict['crash_no_timeout']\n",
    "            elif alltime[idx] > pda.iloc[-1]['logtime']:\n",
    "                newpd['mismatch'][idx] = newpd['mismatch'][idx-1]\n",
    "                newpd['crash'][idx] = newpd['crash'][idx-1]\n",
    "                newpd['crash_no_timeout'][idx] = newpd['crash_no_timeout'][idx-1]            \n",
    "            else:\n",
    "                print('error small')\n",
    "    return pd.DataFrame(\n",
    "        {\n",
    "            'logtime': alltime,\n",
    "            'mismatch':newpd['mismatch'],\n",
    "            'crash':newpd['crash'],\n",
    "            'crash_no_timeout':newpd['crash_no_timeout']\n",
    "        }\n",
    "    )\n",
    "\n",
    "    "
   ]
  },
  {
   "cell_type": "code",
   "execution_count": 5,
   "id": "b0271e00-9631-4260-b5fa-6d37395b07f8",
   "metadata": {},
   "outputs": [
    {
     "name": "stderr",
     "output_type": "stream",
     "text": [
      "100%|██████████| 43202/43202 [00:09<00:00, 4565.79it/s]\n"
     ]
    },
    {
     "name": "stdout",
     "output_type": "stream",
     "text": [
      "_tmp_env_1.json\n"
     ]
    },
    {
     "name": "stderr",
     "output_type": "stream",
     "text": [
      "100%|██████████| 43202/43202 [00:09<00:00, 4623.73it/s]\n"
     ]
    },
    {
     "name": "stdout",
     "output_type": "stream",
     "text": [
      "_tmp_env_2.json\n"
     ]
    },
    {
     "name": "stderr",
     "output_type": "stream",
     "text": [
      "100%|██████████| 43202/43202 [00:09<00:00, 4430.10it/s]"
     ]
    },
    {
     "name": "stdout",
     "output_type": "stream",
     "text": [
      "_tmp_env_3.json\n"
     ]
    },
    {
     "name": "stderr",
     "output_type": "stream",
     "text": [
      "\n"
     ]
    }
   ],
   "source": [
    "_ = os.listdir(jsonpath)\n",
    "_.sort()\n",
    "reslist = []\n",
    "for file in _:\n",
    "    res = _json_align(os.path.join(jsonpath,file),alltime)\n",
    "    reslist.append(res)\n",
    "    print(f\"{file}\")\n",
    "    # sns.lineplot(data=res)\n",
    "    # plt.show()\n",
    "    # break"
   ]
  },
  {
   "cell_type": "code",
   "execution_count": 6,
   "id": "1ec97b77-0a4c-4aaf-90dd-e348be5c749e",
   "metadata": {},
   "outputs": [],
   "source": [
    "totalhour = len(list(reslist[0]['mismatch'][1:-1]))/3600\n",
    "idx = np.linspace(0,totalhour,len(list(reslist[0]['mismatch'][1:-1])))"
   ]
  },
  {
   "cell_type": "code",
   "execution_count": 7,
   "id": "745fdaec-ac3d-4b97-86b5-c3e2ef919432",
   "metadata": {},
   "outputs": [],
   "source": [
    "finaldata = pd.DataFrame({\n",
    "    \"compared1\":list(reslist[0]['mismatch'][1:-1]),\n",
    "    \"compared2\":list(reslist[1]['mismatch'][1:-1]),\n",
    "    \"compared3\":list(reslist[2]['mismatch'][1:-1])\n",
    "},index = idx)"
   ]
  },
  {
   "cell_type": "code",
   "execution_count": 8,
   "id": "575ee688-1498-48fd-9646-07d20a4c085b",
   "metadata": {},
   "outputs": [
    {
     "data": {
      "image/png": "[encoded data removed]",
      "text/plain": [
       "<Figure size 398.506x246.29 with 1 Axes>"
      ]
     },
     "metadata": {
      "needs_background": "light"
     },
     "output_type": "display_data"
    }
   ],
   "source": [
    "plt.figure(figsize=set_size(400))\n",
    "plt.xlabel(r'Experiment Time (12 Hours In Total)',fontweight='bold')\n",
    "plt.ylabel('Discrepancy Detection Number',fontweight='bold',fontsize=10)\n",
    "ax=plt.gca()\n",
    "ax.xaxis.set_major_locator(ticker.MultipleLocator(5))\n",
    "ax.plot(finaldata['compared3'],  label = 'compared3')\n",
    "ax.plot(finaldata['compared1'],  label = 'compared1')\n",
    "ax.plot(finaldata['compared2'],  label = 'compared2')\n",
    "ax.legend([\" \"*20 for _ in range(3)])\n",
    "plt.grid(linestyle = '--', linewidth = 0.5)\n",
    "plt.savefig('mismatch.svg', format='svg', bbox_inches='tight')\n",
    "\n"
   ]
  }
 ],
 "metadata": {
  "kernelspec": {
   "display_name": "Python 3 (ipykernel)",
   "language": "python",
   "name": "python3"
  },
  "language_info": {
   "codemirror_mode": {
    "name": "ipython",
    "version": 3
   },
   "file_extension": ".py",
   "mimetype": "text/x-python",
   "name": "python",
   "nbconvert_exporter": "python",
   "pygments_lexer": "ipython3",
   "version": "3.8.10"
  }
 },
 "nbformat": 4,
 "nbformat_minor": 5
}
