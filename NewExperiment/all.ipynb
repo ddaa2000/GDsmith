{
 "cells": [
  {
   "cell_type": "markdown",
   "id": "b9de2682-9221-4599-8737-2f36cbe00b88",
   "metadata": {},
   "source": [
    "# No de duplication"
   ]
  },
  {
   "cell_type": "code",
   "execution_count": 1,
   "id": "0aa11d96-139e-4c1d-95fe-200ddbe0812b",
   "metadata": {},
   "outputs": [],
   "source": [
    "import os,sys,re\n",
    "import json\n",
    "import pandas as pd\n",
    "# import seaborn as sns; sns.set()\n",
    "import matplotlib.pyplot as plt\n",
    "import drain3\n",
    "from tqdm import tqdm\n",
    "import time\n",
    "import numpy as np"
   ]
  },
  {
   "cell_type": "code",
   "execution_count": 2,
   "id": "7057fbf6-270d-4305-9210-4e90f327ea1a",
   "metadata": {},
   "outputs": [],
   "source": [
    "import matplotlib.pyplot as plt\n",
    "import matplotlib.ticker as ticker\n",
    "# import seaborn as sns\n",
    "import matplotlib\n",
    "from matplotlib.lines import Line2D\n",
    "plt.style.use('seaborn-paper')\n",
    "tex_fonts = {\n",
    "    \"font.family\": \"Times New Roman\",\n",
    "    # Use 10pt font in plots, to match 10pt font in document\n",
    "    \"axes.labelsize\": 10,\n",
    "    \"font.size\": 10,\n",
    "    # Make the legend/label fonts a little smaller\n",
    "    \"legend.fontsize\": 8,\n",
    "    \"xtick.labelsize\": 8,\n",
    "    \"ytick.labelsize\": 8,\n",
    "    \"font.weight\":\"bold\"\n",
    "}\n",
    "plt.rcParams.update(tex_fonts)\n",
    "width = 241.14749\n",
    "def set_size(width, fraction=1):\n",
    "    \"\"\"Set figure dimensions to avoid scaling in LaTeX.\n",
    "\n",
    "    Parameters\n",
    "    ----------\n",
    "    width: float\n",
    "            Document textwidth or columnwidth in pts\n",
    "    fraction: float, optional\n",
    "            Fraction of the width which you wish the figure to occupy\n",
    "\n",
    "    Returns\n",
    "    -------\n",
    "    fig_dim: tuple\n",
    "            Dimensions of figure in inches\n",
    "    \"\"\"\n",
    "    # Width of figure (in pts)\n",
    "    fig_width_pt = width * fraction\n",
    "\n",
    "    # Convert from pt to inches\n",
    "    inches_per_pt = 1 / 72.27\n",
    "\n",
    "    # Golden ratio to set aesthetic figure height\n",
    "    # https://disq.us/p/2940ij3\n",
    "    golden_ratio = (5**.5 - 1) / 2\n",
    "\n",
    "    # Figure width in inches\n",
    "    fig_width_in = fig_width_pt * inches_per_pt\n",
    "    # Figure height in inches\n",
    "    fig_height_in = fig_width_in * golden_ratio\n",
    "\n",
    "    fig_dim = (fig_width_in, fig_height_in)\n",
    "\n",
    "    return fig_dim"
   ]
  },
  {
   "cell_type": "markdown",
   "id": "a1efca60-2d62-4777-93b8-269a550e268e",
   "metadata": {},
   "source": [
    "our: compared3 start:  2022/11/07 16:26:22\n",
    "\n",
    "\n",
    "baseline: compared1 start: 2022/11/08 07:06:02"
   ]
  },
  {
   "cell_type": "markdown",
   "id": "e6f4efdc-3a53-467b-a9ce-5113ffa7f8dd",
   "metadata": {},
   "source": [
    "# our (compared3)\n",
    "\n",
    "replace 3 with 1: **8**\n",
    "\n",
    "no replace: **11**"
   ]
  },
  {
   "cell_type": "code",
   "execution_count": 3,
   "id": "a8f7b03b-2c76-4e2b-8356-074e9f421dda",
   "metadata": {},
   "outputs": [],
   "source": [
    "# mainpath = (\"/Users/nitrogenousfish/Desktop/ResearchArena/GraphDB/New Experiment/compared3\")\n",
    "# databases = os.path.join(mainpath,\"databases\")\n",
    "# diff0 = os.path.join(mainpath,\"diff\")\n",
    "# diff1 = os.path.join(mainpath,\"diff-1\")\n",
    "# diff2 = os.path.join(mainpath,\"diff-1\")\n",
    "\n",
    "# starttime = \"2022/11/07 16:26:22\"\n",
    "# endtime = \"2022/11/08 04:26:22\"\n",
    "# REPLACE = False"
   ]
  },
  {
   "cell_type": "markdown",
   "id": "ef67e6b1-6b9f-4727-b667-85d72d6f9cd4",
   "metadata": {
    "tags": []
   },
   "source": [
    "# baseline (compared1)\n",
    "\n",
    "replace 3 with 1: **5**\n",
    "\n",
    "no replace: **7**"
   ]
  },
  {
   "cell_type": "code",
   "execution_count": 4,
   "id": "5c0950e2-2532-48ca-94b4-b0c9a49331e0",
   "metadata": {},
   "outputs": [],
   "source": [
    "# mainpath = (\"/Users/nitrogenousfish/Desktop/ResearchArena/GraphDB/New Experiment/compared1\")\n",
    "# databases = os.path.join(mainpath,\"databases\")\n",
    "# diffcompared = os.path.join(mainpath,\"diff\")\n",
    "# starttime = \"2022/11/08 07:06:02\"\n",
    "# endtime = \"2022/11/08 19:06:02\"\n",
    "# REPLACE = False"
   ]
  },
  {
   "cell_type": "markdown",
   "id": "0a42d2e4-c95e-4056-ae3f-b5d5d4166dd8",
   "metadata": {
    "tags": []
   },
   "source": [
    "# -something (compared2)\n",
    "\n",
    "replace 3 with 1: **7**\n",
    "\n",
    "no replace: **8**"
   ]
  },
  {
   "cell_type": "code",
   "execution_count": 5,
   "id": "5dbffb3e-0baa-4fd8-9521-314583b6b80e",
   "metadata": {},
   "outputs": [],
   "source": [
    "# mainpath = (\"/Users/nitrogenousfish/Desktop/ResearchArena/GraphDB/New Experiment/compared2\")\n",
    "# databases = os.path.join(mainpath,\"databases\")\n",
    "# diffcompared = os.path.join(mainpath,\"diff\")\n",
    "# starttime = \"2022/11/09 03:28:50\"\n",
    "# endtime = \"2022/11/09 15:28:50\"\n",
    "# REPLACE = True"
   ]
  },
  {
   "cell_type": "code",
   "execution_count": 6,
   "id": "d91c7a44-bc6f-4d49-8b56-c12c3ee5ecaa",
   "metadata": {},
   "outputs": [],
   "source": [
    "ROOTPATH = \"/Users/nitrogenousfish/Desktop/ResearchArena/GraphDB/New Experiment/\"\n",
    "REPLACE = True\n",
    "\n",
    "dataset = {\n",
    "    \"compared1\":{\n",
    "        \"mainpath\":os.path.join(ROOTPATH,'compared1'),\n",
    "        \"starttime\":\"2022/11/08 07:06:02\",\n",
    "        \"endtime\":\"2022/11/08 19:06:02\",\n",
    "        \"plotname\":\"compared1\"\n",
    "    },\n",
    "    \"compared2\":{\n",
    "        \"mainpath\":os.path.join(ROOTPATH,'compared2'),\n",
    "        \"starttime\":\"2022/11/09 03:28:50\",\n",
    "        \"endtime\":\"2022/11/09 15:28:50\",\n",
    "        \"plotname\":\"compared2\"\n",
    "    },\n",
    "    \"compared3\":{\n",
    "        \"mainpath\":os.path.join(ROOTPATH,'compared3'),\n",
    "        \"starttime\":\"2022/11/07 16:26:22\",\n",
    "        \"endtime\":\"2022/11/08 04:26:22\",\n",
    "        \"plotname\":\"compared3\"\n",
    "    },\n",
    "}"
   ]
  },
  {
   "cell_type": "code",
   "execution_count": 7,
   "id": "9415d634-2dc3-40c1-a551-e9277b28e42a",
   "metadata": {},
   "outputs": [],
   "source": [
    "def plotmain(mainpath,starttime,endtime):\n",
    "    databases = os.path.join(mainpath,\"databases\")\n",
    "    diffcompared = os.path.join(mainpath,\"diff\")\n",
    "    def _align(i:str):\n",
    "        timepath = os.path.join(os.path.join(databases,i),'time.txt')\n",
    "        diff0num= os.path.join(os.path.join(mainpath,\"diff\"),i)\n",
    "        diff1num= os.path.join(os.path.join(mainpath,\"diff-1\"),i)\n",
    "        diff2num= os.path.join(os.path.join(mainpath,\"diff-2\"),i)\n",
    "\n",
    "        timelist = []\n",
    "        with open(timepath) as tp:\n",
    "            timelist = tp.readlines()\n",
    "        # time = pd.read_csv(timepath, sep=\" \", header=None)\n",
    "        diff000 = []\n",
    "        diff001 = []\n",
    "        diff002 = []\n",
    "        with open(diff0num) as fp:\n",
    "            diff000=fp.readlines()\n",
    "        with open(diff1num) as fp:\n",
    "            diff001=fp.readlines()\n",
    "        with open(diff2num) as fp:\n",
    "            diff002=fp.readlines()\n",
    "        assert len(diff000) == len(diff001) and len(diff002) == len(diff001)\n",
    "        diff_merge = []\n",
    "        for i in range(len(diff000)):\n",
    "            diff_merge.append(diff000[i]+diff001[i]+diff002[i])\n",
    "        diff = [i.replace(\"]\\n[\",',') for i in diff_merge]\n",
    "\n",
    "\n",
    "        if len(timelist) != len(diff):\n",
    "            print (f\"diff in {i}:  PASS\")\n",
    "            return \"no\",\"no\"\n",
    "        resdiff = []\n",
    "        for d in diff:\n",
    "            # resdiff.append(d.strip())\n",
    "            if REPLACE:\n",
    "                resdiff.append(d.strip().replace('3','1'))\n",
    "            else:\n",
    "                resdiff.append(d.strip())\n",
    "\n",
    "        restimelist = []\n",
    "        for t in timelist:\n",
    "            logtime = time.strptime(t.strip(),r'%Y/%m/%d %H:%M:%S')\n",
    "            restimelist.append(logtime)\n",
    "        return restimelist,resdiff\n",
    "    \n",
    "    \n",
    "    print(f\"mainpath\")\n",
    "    len(os.listdir(diffcompared))\n",
    "    glo_restime = []\n",
    "    glo_resdiff = []\n",
    "    for i in os.listdir(diffcompared): # 0-82\n",
    "        restime,resdiff = _align(i)\n",
    "        if restime!= 'no':\n",
    "            glo_restime.extend(restime)\n",
    "            glo_resdiff.extend(resdiff)\n",
    "            # print(restime)\n",
    "        # break\n",
    "        \n",
    "        \n",
    "    timedict = {}\n",
    "    for i in range(len(glo_restime)):\n",
    "        if glo_restime[i] not in timedict.keys():\n",
    "            timedict[glo_restime[i]] = [glo_resdiff[i]]\n",
    "        else:\n",
    "            timedict[glo_restime[i]].append(glo_resdiff[i])\n",
    "    timedict_num = {k:len(v) for k,v in timedict.items()}\n",
    "    timekeys = [i for i in timedict_num.keys()]\n",
    "    timekeys.sort()\n",
    "    timedict_numberidx = {}\n",
    "    for idx,t in enumerate(timekeys):\n",
    "        timedict_numberidx[idx] = timedict_num[t]\n",
    "        \n",
    "    print(f\"keynum {len(timekeys)}\")\n",
    "    _cmppdtime = [pd.Timestamp(time.strftime(r'%Y/%m/%d %H:%M:%S',i)) for i in timekeys]\n",
    "    alltime = pd.date_range(starttime,endtime,freq='S')\n",
    "    reslist = [0 for _ in range(len(alltime)+1)]\n",
    "    pos = 0\n",
    "    for _idx,t in enumerate(alltime):\n",
    "        idx = _idx+1\n",
    "        if pos<len(_cmppdtime):\n",
    "            if t == _cmppdtime[pos]:\n",
    "                reslist[idx] = reslist[idx-1]+timedict_numberidx[pos]\n",
    "                pos += 1\n",
    "            elif t<= _cmppdtime[pos]:\n",
    "                reslist[idx] = reslist[idx-1]\n",
    "            else:\n",
    "                print(\"error\")\n",
    "        else:\n",
    "            if t> _cmppdtime[-1]:\n",
    "                reslist[idx] = reslist[idx-1]\n",
    "            else:\n",
    "                print(\"error\")\n",
    "    pdpd = pd.DataFrame(\n",
    "        {\n",
    "            'time': alltime,\n",
    "            'num':reslist[1:]\n",
    "        }\n",
    "    )\n",
    "    return pdpd\n",
    "\n"
   ]
  },
  {
   "cell_type": "code",
   "execution_count": null,
   "id": "a1375f32-8b0f-4d43-b02f-046414af4783",
   "metadata": {},
   "outputs": [],
   "source": []
  },
  {
   "cell_type": "code",
   "execution_count": 8,
   "id": "acbb3a9f-d19d-445b-b4d3-388b97cc3558",
   "metadata": {},
   "outputs": [
    {
     "name": "stdout",
     "output_type": "stream",
     "text": [
      "/Users/nitrogenousfish/Desktop/ResearchArena/GraphDB/New Experiment/compared1\n",
      "mainpath\n",
      "keynum 53\n",
      "/Users/nitrogenousfish/Desktop/ResearchArena/GraphDB/New Experiment/compared2\n",
      "mainpath\n",
      "keynum 46\n",
      "/Users/nitrogenousfish/Desktop/ResearchArena/GraphDB/New Experiment/compared3\n",
      "mainpath\n",
      "keynum 286\n"
     ]
    }
   ],
   "source": [
    "datalist = []\n",
    "for k,v in dataset.items():\n",
    "    print(v['mainpath'])\n",
    "    ret_data = plotmain(v['mainpath'],v['starttime'],v['endtime'])\n",
    "    datalist.append(ret_data)"
   ]
  },
  {
   "cell_type": "code",
   "execution_count": 9,
   "id": "4d85a436-5cba-4899-8114-8837ad338279",
   "metadata": {},
   "outputs": [],
   "source": [
    "totalhour = (len(datalist[0])-1)/3600\n",
    "idx = np.linspace(0,totalhour,len(datalist[0])-1)"
   ]
  },
  {
   "cell_type": "code",
   "execution_count": 10,
   "id": "5cb99e89-4e46-4707-8ea9-2eece5f9d56e",
   "metadata": {},
   "outputs": [],
   "source": [
    "finaldata = pd.DataFrame({\n",
    "    \"compared1\":list(datalist[0]['num'][1:]),\n",
    "    \"compared2\":list(datalist[1]['num'][1:]),\n",
    "    \"compared3\":list(datalist[2]['num'][1:])\n",
    "},index = idx)"
   ]
  },
  {
   "cell_type": "code",
   "execution_count": 11,
   "id": "ca5bfa82-cc86-4c17-b565-cdec08c7b0ec",
   "metadata": {},
   "outputs": [
    {
     "data": {
      "text/plain": [
       "43200"
      ]
     },
     "execution_count": 11,
     "metadata": {},
     "output_type": "execute_result"
    }
   ],
   "source": [
    "len(idx)"
   ]
  },
  {
   "cell_type": "code",
   "execution_count": 12,
   "id": "894dae6a-d908-4d02-ac2a-0a90071c6896",
   "metadata": {},
   "outputs": [
    {
     "data": {
      "image/png": "[encoded data removed]",
      "text/plain": [
       "<Figure size 398.506x246.29 with 1 Axes>"
      ]
     },
     "metadata": {
      "needs_background": "light"
     },
     "output_type": "display_data"
    }
   ],
   "source": [
    "plt.figure(figsize=set_size(400))\n",
    "plt.xlabel(r'Experiment Time (12 Hours In Total)',fontweight='bold')\n",
    "plt.ylabel('Discrepancy Detection Number',fontweight='bold',fontsize=10)\n",
    "ax=plt.gca()\n",
    "ax.xaxis.set_major_locator(ticker.MultipleLocator(5))\n",
    "ax.plot(finaldata['compared3'],  label = 'compared3')\n",
    "ax.plot(finaldata['compared2'],  label = 'compared2')\n",
    "ax.plot(finaldata['compared1'],  label = 'compared1')\n",
    "\n",
    "ax.legend([\" \"*20 for _ in range(3)])\n",
    "plt.grid(linestyle = '--', linewidth = 0.5)\n",
    "plt.savefig('all.svg', format='svg', bbox_inches='tight')\n",
    "\n"
   ]
  },
  {
   "cell_type": "code",
   "execution_count": null,
   "id": "20271dcf-d00c-4749-a02e-662bab9dc873",
   "metadata": {},
   "outputs": [],
   "source": []
  },
  {
   "cell_type": "code",
   "execution_count": null,
   "id": "7da47114-08f5-49bf-beda-5b6b8ff843c3",
   "metadata": {},
   "outputs": [],
   "source": []
  }
 ],
 "metadata": {
  "kernelspec": {
   "display_name": "Python 3 (ipykernel)",
   "language": "python",
   "name": "python3"
  },
  "language_info": {
   "codemirror_mode": {
    "name": "ipython",
    "version": 3
   },
   "file_extension": ".py",
   "mimetype": "text/x-python",
   "name": "python",
   "nbconvert_exporter": "python",
   "pygments_lexer": "ipython3",
   "version": "3.8.10"
  }
 },
 "nbformat": 4,
 "nbformat_minor": 5
}
